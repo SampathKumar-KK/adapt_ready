{
 "cells": [
  {
   "cell_type": "markdown",
   "id": "8a0557d2",
   "metadata": {},
   "source": [
    "# Q1\n",
    "\n",
    "# Insights on the complaints.csv file\n",
    "\n",
    "### Date of the complaint is given and the type of the complaint has been described. sub-category has also been described, natue of the issue and sub-issue is mentioned remarks from the customer is gathered,name of the company is mentioned, Location with ZIP code is also provided, from where the complaint was recorded is also obtained, date the complaint sent to company is also recorded and whether the company responded to issue is also mentioned, whether if it was timely response or not and complaint ID is also given\n",
    "\n",
    "\n",
    "### Overall its a comprehensive data about complaints, from nature of complaint to location,date, company_name"
   ]
  },
  {
   "cell_type": "code",
   "execution_count": 30,
   "id": "e3861a66",
   "metadata": {},
   "outputs": [
    {
     "name": "stdout",
     "output_type": "stream",
     "text": [
      "Enter the number of elements in the list: 5\n",
      "-2\n",
      "-1\n",
      "0\n",
      "-5\n",
      "-6\n",
      "[-2, -1, 0, -5, -6]\n",
      "Max Length is:  3\n"
     ]
    }
   ],
   "source": [
    "# 2  Given an unsorted array of integers, find the length of the longest continuous increasing subsequence(subarray)\n",
    "\n",
    "my_list = []   # creating a empty list to store the values given by the user\n",
    "ele = int(input(\"Enter the number of elements in the list: \")) # requesting for the number of elements in the list to run loop\n",
    "\n",
    "\n",
    "# For loop to append the elements to the list\n",
    "for i in range(ele):\n",
    "    num = int(input())\n",
    "    my_list.append(num)\n",
    "\n",
    "print(my_list)\n",
    "\n",
    "l= len(my_list) # this is to run the loop for the list\n",
    "    \n",
    "# Code to find the length of longest continous increasing subsequence\n",
    "\n",
    "sub_seq_len = 1 # initiate the length of current sub sequence as 1 because if there are no increasing sub array in list default will be 1.\n",
    "max_len = 1 # this is a variable to hold max len of the sub array, initialized to 1\n",
    "\n",
    "for i in range(1,l):\n",
    "    \n",
    "    if my_list[i] > my_list[i-1]:\n",
    "        sub_seq_len = sub_seq_len + 1     # keep appending the current array\n",
    "        \n",
    "        \n",
    "    else:\n",
    "        \n",
    "        if max_len < sub_seq_len:      # check the length of current to previous max, if current is greater update the max_len\n",
    "            max_len = sub_seq_len\n",
    "        \n",
    "        sub_seq_len = 1  # if the both the condition do not satisfy then reset the sub seq value\n",
    "        \n",
    "        \n",
    "            \n",
    "        \n",
    "if max_len < sub_seq_len: # this is to check for the last sub array length, if greater than max, then update max\n",
    "    max_len = sub_seq_len\n",
    "    \n",
    "        \n",
    "print(\"Max Length is: \",max_len)     # print the max value to the sub array."
   ]
  },
  {
   "cell_type": "code",
   "execution_count": 38,
   "id": "77628d8f",
   "metadata": {},
   "outputs": [
    {
     "name": "stdout",
     "output_type": "stream",
     "text": [
      "Enter the number of elements in the list: 5\n",
      "3\n",
      "30\n",
      "34\n",
      "5\n",
      "9\n",
      "[3, 30, 34, 5, 9]\n",
      "123\n",
      "['9', '5', '34', '3', '30']\n",
      "9534330\n"
     ]
    }
   ],
   "source": [
    "# 3 Given a list of non negative integers, arrange them such that they form the largest number.\n",
    "\n",
    "\n",
    "my_list = []   # creating a empty list to store the values given by the user\n",
    "ele = int(input(\"Enter the number of elements in the list: \")) # requesting for the number of elements in the list to run loop\n",
    "\n",
    "\n",
    "# For loop to append the elements to the list\n",
    "for i in range(ele):\n",
    "    num = int(input())\n",
    "    my_list.append(num)\n",
    "\n",
    "print(my_list)\n",
    "\n",
    "result = ''\n",
    "\n",
    "\n",
    "\n",
    "if len(my_list)==1:  # if the list has only one number, then its the same value.\n",
    "    result = str(my_list[0])\n",
    "        \n",
    "    #Below lines are code are used to find the largest element possible.\n",
    "    \n",
    "    #convert a list into a string array that is suitable for concatenation\n",
    "for i in range(len(my_list)):\n",
    "    my_list[i]=str(my_list[i])\n",
    "\n",
    "\n",
    "for i in range(len(my_list)):      # adding two consecutive strings and comparing to arrange them in ascending order\n",
    "    for j in range(1+i,len(my_list)):\n",
    "        if my_list[j] + my_list[i] > my_list[i] + my_list[j]:\n",
    "            my_list[i],my_list[j] = my_list[j],my_list[i]\n",
    "\n",
    "print(my_list)            \n",
    "\n",
    "result=''.join(my_list)\n",
    "    \n",
    "print(result)    "
   ]
  },
  {
   "cell_type": "code",
   "execution_count": 118,
   "id": "9dd6fa1e",
   "metadata": {},
   "outputs": [
    {
     "name": "stdout",
     "output_type": "stream",
     "text": [
      "['cofaxCDS', 'cofaxEmail', 'cofaxAdmin', 'fileServlet', 'cofaxTools']\n",
      "['org.cofax.cds.CDSServlet', 'org.cofax.cds.EmailServlet', 'org.cofax.cds.AdminServlet', 'org.cofax.cds.FileServlet', 'org.cofax.cms.CofaxToolsServlet']\n"
     ]
    }
   ],
   "source": [
    "# 4 Python program to read json file\n",
    " \n",
    "import json\n",
    " \n",
    "# Opening JSON file\n",
    "f = open('sample_json.json')\n",
    " \n",
    "# returns JSON object as \n",
    "# a dictionary\n",
    "data = json.load(f)\n",
    " \n",
    "# Iterating through the json\n",
    "# list\n",
    "\n",
    "servlet_name = []\n",
    "servlet_class = []\n",
    "\n",
    "# loop throught the list and using get function access the servlet-name and servlet-class\n",
    "\n",
    "for i in range(len(data['web-app']['servlet'])):\n",
    "    servlet_name.append(data['web-app']['servlet'][i].get('servlet-name'))\n",
    "\n",
    "    \n",
    "for i in range(len(data['web-app']['servlet'])):\n",
    "    servlet_class.append(data['web-app']['servlet'][i].get('servlet-class'))    \n",
    "\n",
    "# Print the lists\n",
    "print(servlet_name)\n",
    "print(servlet_class)"
   ]
  },
  {
   "cell_type": "code",
   "execution_count": 120,
   "id": "d7310ddd",
   "metadata": {},
   "outputs": [],
   "source": [
    "import csv\n",
    "\n",
    "# Open the file in write mode\n",
    "with open('my_csv_file.csv', 'w') as csvfile:\n",
    "\n",
    "    # Create a CSV writer object\n",
    "    writer = csv.writer(csvfile)\n",
    "\n",
    "    # Write data to the CSV file\n",
    "    writer.writerow(['servlet-name', 'servlet-class'])\n",
    "    writer.writerow(['cofaxCDS', 'org.cofax.cds.CDSServlet'])\n",
    "    writer.writerow(['cofaxEmail', 'org.cofax.cds.EmailServlet'])\n",
    "    writer.writerow(['cofaxAdmin', 'org.cofax.cds.AdminServlet'])\n",
    "    writer.writerow(['fileServlet', 'org.cofax.cds.FileServlet'])\n",
    "    writer.writerow(['cofaxTools', 'org.cofax.cds.CoFaxToolsServlet'])\n",
    "\n",
    "# Close the file\n",
    "csvfile.close()"
   ]
  },
  {
   "cell_type": "code",
   "execution_count": 121,
   "id": "d7d7d693",
   "metadata": {},
   "outputs": [],
   "source": [
    "import pandas as pd\n",
    "\n",
    "file = pd.read_csv('my_csv_file.csv')"
   ]
  },
  {
   "cell_type": "code",
   "execution_count": 122,
   "id": "6dd430c3",
   "metadata": {},
   "outputs": [
    {
     "data": {
      "text/html": [
       "<div>\n",
       "<style scoped>\n",
       "    .dataframe tbody tr th:only-of-type {\n",
       "        vertical-align: middle;\n",
       "    }\n",
       "\n",
       "    .dataframe tbody tr th {\n",
       "        vertical-align: top;\n",
       "    }\n",
       "\n",
       "    .dataframe thead th {\n",
       "        text-align: right;\n",
       "    }\n",
       "</style>\n",
       "<table border=\"1\" class=\"dataframe\">\n",
       "  <thead>\n",
       "    <tr style=\"text-align: right;\">\n",
       "      <th></th>\n",
       "      <th>servlet-name</th>\n",
       "      <th>servlet-class</th>\n",
       "    </tr>\n",
       "  </thead>\n",
       "  <tbody>\n",
       "    <tr>\n",
       "      <th>0</th>\n",
       "      <td>cofaxCDS</td>\n",
       "      <td>org.cofax.cds.CDSServlet</td>\n",
       "    </tr>\n",
       "    <tr>\n",
       "      <th>1</th>\n",
       "      <td>cofaxEmail</td>\n",
       "      <td>org.cofax.cds.EmailServlet</td>\n",
       "    </tr>\n",
       "    <tr>\n",
       "      <th>2</th>\n",
       "      <td>cofaxAdmin</td>\n",
       "      <td>org.cofax.cds.AdminServlet</td>\n",
       "    </tr>\n",
       "    <tr>\n",
       "      <th>3</th>\n",
       "      <td>fileServlet</td>\n",
       "      <td>org.cofax.cds.FileServlet</td>\n",
       "    </tr>\n",
       "    <tr>\n",
       "      <th>4</th>\n",
       "      <td>cofaxTools</td>\n",
       "      <td>org.cofax.cds.CoFaxToolsServlet</td>\n",
       "    </tr>\n",
       "  </tbody>\n",
       "</table>\n",
       "</div>"
      ],
      "text/plain": [
       "  servlet-name                    servlet-class\n",
       "0     cofaxCDS         org.cofax.cds.CDSServlet\n",
       "1   cofaxEmail       org.cofax.cds.EmailServlet\n",
       "2   cofaxAdmin       org.cofax.cds.AdminServlet\n",
       "3  fileServlet        org.cofax.cds.FileServlet\n",
       "4   cofaxTools  org.cofax.cds.CoFaxToolsServlet"
      ]
     },
     "execution_count": 122,
     "metadata": {},
     "output_type": "execute_result"
    }
   ],
   "source": [
    "file"
   ]
  },
  {
   "cell_type": "code",
   "execution_count": null,
   "id": "223032f5",
   "metadata": {},
   "outputs": [],
   "source": []
  }
 ],
 "metadata": {
  "kernelspec": {
   "display_name": "Python 3 (ipykernel)",
   "language": "python",
   "name": "python3"
  },
  "language_info": {
   "codemirror_mode": {
    "name": "ipython",
    "version": 3
   },
   "file_extension": ".py",
   "mimetype": "text/x-python",
   "name": "python",
   "nbconvert_exporter": "python",
   "pygments_lexer": "ipython3",
   "version": "3.10.9"
  }
 },
 "nbformat": 4,
 "nbformat_minor": 5
}
